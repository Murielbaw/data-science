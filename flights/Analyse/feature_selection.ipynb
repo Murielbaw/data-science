{
 "cells": [
  {
   "cell_type": "code",
   "execution_count": 2,
   "metadata": {},
   "outputs": [],
   "source": [
    "import sys\n",
    "import os\n",
    "\n",
    "sys.path.append('../')\n",
    "\n",
    "import pandas as pd\n",
    "import numpy as np\n",
    "from util import util\n",
    "import importlib as imp\n",
    "imp.reload(util)\n",
    "from util import globalvar as gv\n",
    "import matplotlib.pyplot as plt\n",
    "import seaborn as sns\n",
    "import statsmodels.api as sm\n",
    "from statsmodels.formula.api import ols\n",
    "from sklearn.model_selection import train_test_split\n",
    "from sklearn.linear_model import LinearRegression\n",
    "from sklearn.metrics import mean_squared_error, r2_score\n",
    "from sklearn.preprocessing import OneHotEncoder\n",
    "from mlxtend.feature_selection import SequentialFeatureSelector as SFS\n",
    "from sklearn.metrics import r2_score\n",
    "from sklearn.preprocessing import LabelEncoder"
   ]
  },
  {
   "cell_type": "code",
   "execution_count": 3,
   "metadata": {},
   "outputs": [],
   "source": [
    "file_name = '../Clean/ready_to_analyse.csv'\n",
    "dtype_dict = {gv.ORI_STATE: 'category',\\\n",
    "                   gv.DEST_STATE: 'category',  gv.CANCELLED: 'boolean', gv.CANCELLATION_CODE: 'category',\\\n",
    "                    gv.DIVERTED: 'boolean', gv.SCHEDULED_ELAPSED_TIME: 'int64', gv.DISTANCE: 'int64',\\\n",
    "                    gv.DIV_AIRPORT_LANDINGS: 'category',  gv.DIV_REACH_DEST: 'boolean'}\n",
    "\n",
    "df = pd.read_csv(file_name, dtype=dtype_dict,parse_dates=[gv.FLIGHT_DATE])\n",
    "\n",
    "df[gv.SCHEDULED_DEP_TIME]=pd.to_datetime(df[gv.SCHEDULED_DEP_TIME],format='%H:%M:%S')\n",
    "df[gv.SCHEDULED_ARR_TIME]=pd.to_datetime(df[gv.SCHEDULED_ARR_TIME], format='%H:%M:%S')"
   ]
  },
  {
   "cell_type": "code",
   "execution_count": null,
   "metadata": {},
   "outputs": [],
   "source": [
    "df_aa = df[(df[gv.REPORTING_AIRLINE]=='AA')&(df[gv.ARR_DELAY_TIME]>=15)]\n",
    "X = df_aa[[gv.ORI_CITY, gv.ORI_AIRPORT, gv.ORI_STATE, gv.DEST_CITY, gv.DEST_AIRPORT, gv.DEST_STATE]]\n",
    "y = df_aa[gv.ARR_DELAY_TIME]\n",
    "\n",
    "\n",
    "# Manually label encode the categorical variable\n",
    "label_encoder = LabelEncoder()\n",
    "for column in X.select_dtypes(include=['object']).columns:\n",
    "    X[column] = label_encoder.fit_transform(X[column])\n",
    "\n",
    "# Splitting the data into training and testing sets\n",
    "X_train, X_test, y_train, y_test = train_test_split(X, y, test_size=0.2, random_state=42)\n",
    "\n",
    "# Initialize Linear Regression model\n",
    "lr = LinearRegression()\n",
    "\n",
    "# Sequential Forward Selection\n",
    "sfs = SFS(lr, \n",
    "          k_features='best', \n",
    "          forward=True, \n",
    "          floating=False, \n",
    "          scoring='r2',\n",
    "          cv=0)\n",
    "\n",
    "# Perform SFS\n",
    "sfs = sfs.fit(X_train, y_train)\n",
    "\n",
    "# Selected features\n",
    "selected_features = X_train.columns[list(sfs.k_feature_idx_)]\n",
    "print(\"Selected features:\", selected_features)\n",
    "\n",
    "# Evaluate the model on the test set\n",
    "lr.fit(X_train[selected_features], y_train)\n",
    "y_pred = lr.predict(X_test[selected_features])\n",
    "print(\"Test set R-squared: \", r2_score(y_test, y_pred))"
   ]
  },
  {
   "cell_type": "code",
   "execution_count": null,
   "metadata": {},
   "outputs": [],
   "source": []
  }
 ],
 "metadata": {
  "kernelspec": {
   "display_name": "base",
   "language": "python",
   "name": "python3"
  },
  "language_info": {
   "codemirror_mode": {
    "name": "ipython",
    "version": 3
   },
   "file_extension": ".py",
   "mimetype": "text/x-python",
   "name": "python",
   "nbconvert_exporter": "python",
   "pygments_lexer": "ipython3",
   "version": "3.11.5"
  }
 },
 "nbformat": 4,
 "nbformat_minor": 2
}
